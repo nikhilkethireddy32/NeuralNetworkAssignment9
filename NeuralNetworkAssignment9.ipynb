{
  "metadata": {
    "kernelspec": {
      "name": "python",
      "display_name": "Python (Pyodide)",
      "language": "python"
    },
    "language_info": {
      "codemirror_mode": {
        "name": "python",
        "version": 3
      },
      "file_extension": ".py",
      "mimetype": "text/x-python",
      "name": "python",
      "nbconvert_exporter": "python",
      "pygments_lexer": "ipython3",
      "version": "3.8"
    },
    "colab": {
      "provenance": []
    }
  },
  "nbformat_minor": 4,
  "nbformat": 4,
  "cells": [
    {
      "cell_type": "code",
      "source": "import pandas as pd #Basic packages for creating dataframes and loading dataset\nimport numpy as np\nimport matplotlib.pyplot as plt #Package for visualization\nimport re #importing package for Regular expression operations\nfrom sklearn.model_selection import train_test_split #Package for splitting the data\nfrom sklearn.preprocessing import LabelEncoder #Package for conversion of categorical to Numerical\nfrom keras.preprocessing.text import Tokenizer #Tokenization\nfrom keras.preprocessing.sequence import pad_sequences #Add zeros or crop based on the length\nfrom keras.models import Sequential #Sequential Neural Network\nfrom keras.layers import Dense, Embedding, LSTM, SpatialDropout1D #For layers in Neural Network\nfrom keras.utils import to_categorical",
      "metadata": {
        "id": "NUKdEUQHkMxw"
      },
      "outputs": [],
      "execution_count": 1
    },
    {
      "cell_type": "code",
      "source": "import pandas as pd\n\n# Load the dataset as a Pandas DataFrame\ndataset = pd.read_csv('Sentiment (3).csv')\n\n# Select only the necessary columns 'text' and 'sentiment'\nmask = dataset.columns.isin(['text', 'sentiment'])\ndata = dataset.loc[:, mask]\n\n\ndata['text'] = data['text'].apply(lambda x: x.lower())\ndata['text'] = data['text'].apply((lambda x: re.sub('[^a-zA-z0-9\\s]', '', x)))\n",
      "metadata": {
        "colab": {
          "base_uri": "https://localhost:8080/"
        },
        "id": "lRZzEHbqkaW1",
        "outputId": "aa80cf64-2ce3-419f-f333-d93eb82fac25"
      },
      "outputs": [
        {
          "output_type": "stream",
          "name": "stderr",
          "text": [
            "<ipython-input-5-d34a00db5f2b>:11: SettingWithCopyWarning: \n",
            "A value is trying to be set on a copy of a slice from a DataFrame.\n",
            "Try using .loc[row_indexer,col_indexer] = value instead\n",
            "\n",
            "See the caveats in the documentation: https://pandas.pydata.org/pandas-docs/stable/user_guide/indexing.html#returning-a-view-versus-a-copy\n",
            "  data['text'] = data['text'].apply(lambda x: x.lower())\n",
            "<ipython-input-5-d34a00db5f2b>:12: SettingWithCopyWarning: \n",
            "A value is trying to be set on a copy of a slice from a DataFrame.\n",
            "Try using .loc[row_indexer,col_indexer] = value instead\n",
            "\n",
            "See the caveats in the documentation: https://pandas.pydata.org/pandas-docs/stable/user_guide/indexing.html#returning-a-view-versus-a-copy\n",
            "  data['text'] = data['text'].apply((lambda x: re.sub('[^a-zA-z0-9\\s]', '', x)))\n"
          ]
        }
      ],
      "execution_count": 5
    },
    {
      "cell_type": "code",
      "source": "for idx, row in data.iterrows():\n    row[0] = row[0].replace('rt', ' ') #Removing Retweets\n\n",
      "metadata": {
        "id": "14j__DA_kbSJ"
      },
      "outputs": [],
      "execution_count": 6
    },
    {
      "cell_type": "code",
      "source": "max_fatures = 2000\ntokenizer = Tokenizer(num_words=max_fatures, split=' ') #Maximum words is 2000 to tokenize sentence\ntokenizer.fit_on_texts(data['text'].values)\nX = tokenizer.texts_to_sequences(data['text'].values) #taking values to feature matrix\n\n",
      "metadata": {
        "id": "qEYRvHoQke1C"
      },
      "outputs": [],
      "execution_count": 7
    },
    {
      "cell_type": "code",
      "source": "X = pad_sequences(X) #Padding the feature matrix\n\nembed_dim = 128 #Dimension of the Embedded layer\nlstm_out = 196 #Long short-term memory (LSTM) layer neurons\n\n",
      "metadata": {
        "id": "MRvZo-jCkh0C"
      },
      "outputs": [],
      "execution_count": 8
    },
    {
      "cell_type": "code",
      "source": "def createmodel():\n    model = Sequential() #Sequential Neural Network\n    model.add(Embedding(max_fatures, embed_dim,input_length = X.shape[1])) #input dimension 2000 Neurons, output dimension 128 Neurons\n    model.add(LSTM(lstm_out, dropout=0.2, recurrent_dropout=0.2)) #Drop out 20%, 196 output Neurons, recurrent dropout 20%\n    model.add(Dense(3,activation='softmax')) #3 output neurons[positive, Neutral, Negative], softmax as activation\n    model.compile(loss = 'categorical_crossentropy', optimizer='adam',metrics = ['accuracy']) #Compiling the model\n    return model\n# print(model.summary())\n",
      "metadata": {
        "id": "ox2lpB45klLE"
      },
      "outputs": [],
      "execution_count": 9
    },
    {
      "cell_type": "code",
      "source": "labelencoder = LabelEncoder() #Applying label Encoding on the label matrix\ninteger_encoded = labelencoder.fit_transform(data['sentiment']) #fitting the model\ny = to_categorical(integer_encoded)\nX_train, X_test, Y_train, Y_test = train_test_split(X,y, test_size = 0.33, random_state = 42) #67% training data, 33% test data split\n",
      "metadata": {
        "id": "cYEoVaQkkoWo"
      },
      "outputs": [],
      "execution_count": 10
    },
    {
      "cell_type": "code",
      "source": "batch_size = 32 #Batch size 32\nmodel = createmodel() #Function call to Sequential Neural Network\nmodel.fit(X_train, Y_train, epochs = 1, batch_size=batch_size, verbose = 2) #verbose the higher, the more messages\nscore,acc = model.evaluate(X_test,Y_test,verbose=2,batch_size=batch_size) #evaluating the model\nprint(score)\nprint(acc)",
      "metadata": {
        "colab": {
          "base_uri": "https://localhost:8080/"
        },
        "id": "aD3_8iCmkq51",
        "outputId": "4acb2b62-9a9d-4236-ea60-46513787a1ff"
      },
      "outputs": [
        {
          "output_type": "stream",
          "name": "stdout",
          "text": [
            "291/291 - 52s - loss: 0.8292 - accuracy: 0.6430 - 52s/epoch - 179ms/step\n",
            "144/144 - 4s - loss: 0.7674 - accuracy: 0.6619 - 4s/epoch - 28ms/step\n",
            "0.7674025893211365\n",
            "0.6618610620498657\n"
          ]
        }
      ],
      "execution_count": 11
    },
    {
      "cell_type": "code",
      "source": "print(model.metrics_names) #metrics of the model\n",
      "metadata": {
        "colab": {
          "base_uri": "https://localhost:8080/"
        },
        "id": "jMZORpTvkuHJ",
        "outputId": "33ba4200-9e5b-47bc-ecdc-e56a05a45722"
      },
      "outputs": [
        {
          "output_type": "stream",
          "name": "stdout",
          "text": [
            "['loss', 'accuracy']\n"
          ]
        }
      ],
      "execution_count": 12
    },
    {
      "cell_type": "markdown",
      "source": "1. Save the model and use the saved model to predict on new text data (ex, “A lot of good things are happening. We are respected again throughout the world, and that's a great thing.@realDonaldTrump”)",
      "metadata": {
        "id": "GT8K4AdslO_y"
      }
    },
    {
      "cell_type": "code",
      "source": "model.save('sentimentAnalysis.h5') #Saving the model",
      "metadata": {
        "colab": {
          "base_uri": "https://localhost:8080/"
        },
        "id": "J3ewWC4Ikx_S",
        "outputId": "504219ac-39b9-4418-df26-ed5241131589"
      },
      "outputs": [
        {
          "output_type": "stream",
          "name": "stderr",
          "text": [
            "/usr/local/lib/python3.10/dist-packages/keras/src/engine/training.py:3103: UserWarning: You are saving your model as an HDF5 file via `model.save()`. This file format is considered legacy. We recommend using instead the native Keras format, e.g. `model.save('my_model.keras')`.\n",
            "  saving_api.save_model(\n"
          ]
        }
      ],
      "execution_count": 13
    },
    {
      "cell_type": "code",
      "source": "from keras.models import load_model #Importing the package for importing the saved model\nmodel= load_model('sentimentAnalysis.h5') #loading the saved model\n",
      "metadata": {
        "id": "EjlUJxvzk46j"
      },
      "outputs": [],
      "execution_count": 14
    },
    {
      "cell_type": "code",
      "source": "\n\nprint(integer_encoded)\nprint(data['sentiment'])",
      "metadata": {
        "colab": {
          "base_uri": "https://localhost:8080/"
        },
        "id": "EwFftwtAk8il",
        "outputId": "97e2b53e-7f4b-4249-ba52-6313125b70df"
      },
      "outputs": [
        {
          "output_type": "stream",
          "name": "stdout",
          "text": [
            "[1 2 1 ... 2 0 2]\n",
            "0         Neutral\n",
            "1        Positive\n",
            "2         Neutral\n",
            "3        Positive\n",
            "4        Positive\n",
            "           ...   \n",
            "13866    Negative\n",
            "13867    Positive\n",
            "13868    Positive\n",
            "13869    Negative\n",
            "13870    Positive\n",
            "Name: sentiment, Length: 13871, dtype: object\n"
          ]
        }
      ],
      "execution_count": 15
    },
    {
      "cell_type": "code",
      "source": "\n\n# Predicting on the text data\nsentence = ['A lot of good things are happening. We are respected again throughout the world, and that is a great thing.@realDonaldTrump']\nsentence = tokenizer.texts_to_sequences(sentence) # Tokenizing the sentence\nsentence = pad_sequences(sentence, maxlen=28, dtype='int32', value=0) # Padding the sentence\nsentiment_probs = model.predict(sentence, batch_size=1, verbose=2)[0] # Predicting the sentence text\nsentiment = np.argmax(sentiment_probs)\n\nprint(sentiment_probs)\nif sentiment == 0:\n    print(\"Neutral\")\nelif sentiment < 0:\n    print(\"Negative\")\nelif sentiment > 0:\n    print(\"Positive\")\nelse:\n    print(\"Cannot be determined\")",
      "metadata": {
        "colab": {
          "base_uri": "https://localhost:8080/"
        },
        "id": "hkyWh06sk_3V",
        "outputId": "231aa235-663c-4f13-b98d-fa0e8e93b3f1"
      },
      "outputs": [
        {
          "output_type": "stream",
          "name": "stdout",
          "text": [
            "1/1 - 0s - 294ms/epoch - 294ms/step\n",
            "[0.36646983 0.11932252 0.51420766]\n",
            "Positive\n"
          ]
        }
      ],
      "execution_count": 16
    },
    {
      "cell_type": "markdown",
      "source": "\n2. Apply GridSearchCV on the source code provided in the class\n\n\n\n\n\n\n\n\n\n\n\n\n\n\n\n\n\n\n\n\n\n\n\n\n\n\n\n\n\n\n\n\n\n\n\n\n\n\n\n\n\n\n\n\n\n\n\n\n\n\n\n\n\n\n\n\n\n\n\n\n\n\n\n\n\n\n\n\n\n\n\n\n\n\n\n\n\n\n\n\n\n\n\n\n\n\n\n\n\n\n\n\n\n\n\n\n\n\n\n\n\n\n\n\n\n\n\n\n\n\n\n\n\n\n\n\n\n\n\n\n\n",
      "metadata": {
        "id": "puxfRL56lWBt"
      }
    },
    {
      "cell_type": "code",
      "source": "\npip install scikeras",
      "metadata": {
        "colab": {
          "base_uri": "https://localhost:8080/"
        },
        "id": "zfRTRDtLlZaR",
        "outputId": "275926f9-537f-46ed-c2db-cdcc7581dce4"
      },
      "outputs": [
        {
          "output_type": "stream",
          "name": "stdout",
          "text": [
            "Collecting scikeras\n",
            "  Downloading scikeras-0.12.0-py3-none-any.whl (27 kB)\n",
            "Requirement already satisfied: packaging>=0.21 in /usr/local/lib/python3.10/dist-packages (from scikeras) (24.0)\n",
            "Requirement already satisfied: scikit-learn>=1.0.0 in /usr/local/lib/python3.10/dist-packages (from scikeras) (1.2.2)\n",
            "Requirement already satisfied: numpy>=1.17.3 in /usr/local/lib/python3.10/dist-packages (from scikit-learn>=1.0.0->scikeras) (1.25.2)\n",
            "Requirement already satisfied: scipy>=1.3.2 in /usr/local/lib/python3.10/dist-packages (from scikit-learn>=1.0.0->scikeras) (1.11.4)\n",
            "Requirement already satisfied: joblib>=1.1.1 in /usr/local/lib/python3.10/dist-packages (from scikit-learn>=1.0.0->scikeras) (1.3.2)\n",
            "Requirement already satisfied: threadpoolctl>=2.0.0 in /usr/local/lib/python3.10/dist-packages (from scikit-learn>=1.0.0->scikeras) (3.4.0)\n",
            "Installing collected packages: scikeras\n",
            "Successfully installed scikeras-0.12.0\n"
          ]
        }
      ],
      "execution_count": 17
    },
    {
      "cell_type": "code",
      "source": "from scikeras.wrappers import KerasClassifier #importing Keras classifier\n\nfrom sklearn.model_selection import GridSearchCV #importing Grid search CV\n\nmodel = KerasClassifier(model=createmodel,verbose=2) #initiating model to test performance by applying multiple hyper parameters\nbatch_size= [10, 20, 40] #hyper parameter batch_size\nepochs = [1, 2] #hyper parameter no. of epochs\nparam_grid= {'batch_size':batch_size, 'epochs':epochs} #creating dictionary for batch size, no. of epochs\ngrid  = GridSearchCV(estimator=model, param_grid=param_grid) #Applying dictionary with hyper parameters\ngrid_result= grid.fit(X_train,Y_train) #Fitting the model\n# summarize results\nprint(\"Best: %f using %s\" % (grid_result.best_score_, grid_result.best_params_)) #best score, best hyper parameters\n",
      "metadata": {
        "colab": {
          "base_uri": "https://localhost:8080/"
        },
        "id": "Yc0Sb9n2lcGL",
        "outputId": "4a3ea7fa-c949-472c-8e53-a826717138b2"
      },
      "outputs": [
        {
          "output_type": "stream",
          "name": "stdout",
          "text": [
            "744/744 - 116s - loss: 0.8256 - accuracy: 0.6504 - 116s/epoch - 155ms/step\n",
            "186/186 - 4s - 4s/epoch - 21ms/step\n",
            "744/744 - 100s - loss: 0.8205 - accuracy: 0.6451 - 100s/epoch - 134ms/step\n",
            "186/186 - 3s - 3s/epoch - 14ms/step\n",
            "744/744 - 96s - loss: 0.8212 - accuracy: 0.6464 - 96s/epoch - 129ms/step\n",
            "186/186 - 3s - 3s/epoch - 18ms/step\n",
            "744/744 - 128s - loss: 0.8300 - accuracy: 0.6430 - 128s/epoch - 172ms/step\n",
            "186/186 - 4s - 4s/epoch - 19ms/step\n",
            "744/744 - 135s - loss: 0.8187 - accuracy: 0.6512 - 135s/epoch - 182ms/step\n",
            "186/186 - 5s - 5s/epoch - 25ms/step\n",
            "Epoch 1/2\n",
            "744/744 - 125s - loss: 0.8274 - accuracy: 0.6466 - 125s/epoch - 167ms/step\n",
            "Epoch 2/2\n",
            "744/744 - 110s - loss: 0.6766 - accuracy: 0.7097 - 110s/epoch - 147ms/step\n",
            "186/186 - 4s - 4s/epoch - 23ms/step\n",
            "Epoch 1/2\n",
            "744/744 - 103s - loss: 0.8204 - accuracy: 0.6481 - 103s/epoch - 139ms/step\n",
            "Epoch 2/2\n",
            "744/744 - 97s - loss: 0.6734 - accuracy: 0.7143 - 97s/epoch - 130ms/step\n",
            "186/186 - 3s - 3s/epoch - 14ms/step\n",
            "Epoch 1/2\n",
            "744/744 - 103s - loss: 0.8254 - accuracy: 0.6445 - 103s/epoch - 139ms/step\n",
            "Epoch 2/2\n",
            "744/744 - 99s - loss: 0.6783 - accuracy: 0.7140 - 99s/epoch - 132ms/step\n",
            "186/186 - 3s - 3s/epoch - 15ms/step\n",
            "Epoch 1/2\n",
            "744/744 - 98s - loss: 0.8287 - accuracy: 0.6448 - 98s/epoch - 131ms/step\n",
            "Epoch 2/2\n",
            "744/744 - 98s - loss: 0.6765 - accuracy: 0.7104 - 98s/epoch - 132ms/step\n",
            "186/186 - 3s - 3s/epoch - 15ms/step\n",
            "Epoch 1/2\n",
            "744/744 - 100s - loss: 0.8184 - accuracy: 0.6496 - 100s/epoch - 135ms/step\n",
            "Epoch 2/2\n",
            "744/744 - 97s - loss: 0.6651 - accuracy: 0.7139 - 97s/epoch - 131ms/step\n",
            "186/186 - 3s - 3s/epoch - 14ms/step\n",
            "372/372 - 62s - loss: 0.8343 - accuracy: 0.6390 - 62s/epoch - 168ms/step\n",
            "93/93 - 3s - 3s/epoch - 32ms/step\n",
            "372/372 - 58s - loss: 0.8223 - accuracy: 0.6419 - 58s/epoch - 157ms/step\n",
            "93/93 - 2s - 2s/epoch - 24ms/step\n",
            "372/372 - 54s - loss: 0.8335 - accuracy: 0.6419 - 54s/epoch - 146ms/step\n",
            "93/93 - 2s - 2s/epoch - 19ms/step\n",
            "372/372 - 55s - loss: 0.8300 - accuracy: 0.6389 - 55s/epoch - 147ms/step\n",
            "93/93 - 3s - 3s/epoch - 31ms/step\n"
          ]
        }
      ],
      "execution_count": null
    }
  ]
}